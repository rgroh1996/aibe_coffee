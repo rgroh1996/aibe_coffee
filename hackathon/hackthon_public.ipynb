{
 "cells": [
  {
   "cell_type": "markdown",
   "metadata": {},
   "source": [
    "# Loading Json Data"
   ]
  },
  {
   "cell_type": "code",
   "execution_count": 1,
   "metadata": {},
   "outputs": [
    {
     "data": {
      "text/html": [
       "<div>\n",
       "<style scoped>\n",
       "    .dataframe tbody tr th:only-of-type {\n",
       "        vertical-align: middle;\n",
       "    }\n",
       "\n",
       "    .dataframe tbody tr th {\n",
       "        vertical-align: top;\n",
       "    }\n",
       "\n",
       "    .dataframe thead th {\n",
       "        text-align: right;\n",
       "    }\n",
       "</style>\n",
       "<table border=\"1\" class=\"dataframe\">\n",
       "  <thead>\n",
       "    <tr style=\"text-align: right;\">\n",
       "      <th></th>\n",
       "      <th>Starts</th>\n",
       "      <th>Stops</th>\n",
       "      <th>Strength</th>\n",
       "      <th>Size</th>\n",
       "      <th>data</th>\n",
       "      <th>confidence</th>\n",
       "      <th>Split</th>\n",
       "    </tr>\n",
       "  </thead>\n",
       "  <tbody>\n",
       "    <tr>\n",
       "      <th>0</th>\n",
       "      <td>176021</td>\n",
       "      <td>176120</td>\n",
       "      <td>strong</td>\n",
       "      <td>Large</td>\n",
       "      <td>[2.6, 2.6, 2.6, 2.5, 2.5, 2.5, 2.5, 2.5, 2.5, ...</td>\n",
       "      <td>low</td>\n",
       "      <td>Train</td>\n",
       "    </tr>\n",
       "    <tr>\n",
       "      <th>1</th>\n",
       "      <td>78674</td>\n",
       "      <td>78768</td>\n",
       "      <td>strong</td>\n",
       "      <td>Large</td>\n",
       "      <td>[2.8, 2.8, 2.7, 2.7, 2.7, 2.7, 2.7, 2.7, 2.7, ...</td>\n",
       "      <td>low</td>\n",
       "      <td>Train</td>\n",
       "    </tr>\n",
       "    <tr>\n",
       "      <th>2</th>\n",
       "      <td>174111</td>\n",
       "      <td>174223</td>\n",
       "      <td>strong</td>\n",
       "      <td>Large</td>\n",
       "      <td>[2.6, 2.6, 2.6, 2.6, 2.6, 2.5, 2.5, 2.5, 2.5, ...</td>\n",
       "      <td>low</td>\n",
       "      <td>Train</td>\n",
       "    </tr>\n",
       "    <tr>\n",
       "      <th>3</th>\n",
       "      <td>11499</td>\n",
       "      <td>11575</td>\n",
       "      <td>weak</td>\n",
       "      <td>Small</td>\n",
       "      <td>[2.7, 2.7, 2.7, 2.7, 2.7, 2.7, 2.7, 2.7, 2.6, ...</td>\n",
       "      <td>high</td>\n",
       "      <td>Train</td>\n",
       "    </tr>\n",
       "    <tr>\n",
       "      <th>4</th>\n",
       "      <td>162894</td>\n",
       "      <td>163029</td>\n",
       "      <td>regular</td>\n",
       "      <td>Large</td>\n",
       "      <td>[2.6, 2.6, 2.6, 2.6, 2.6, 2.6, 2.6, 2.5, 2.5, ...</td>\n",
       "      <td>low</td>\n",
       "      <td>Train</td>\n",
       "    </tr>\n",
       "  </tbody>\n",
       "</table>\n",
       "</div>"
      ],
      "text/plain": [
       "   Starts   Stops Strength   Size  \\\n",
       "0  176021  176120   strong  Large   \n",
       "1   78674   78768   strong  Large   \n",
       "2  174111  174223   strong  Large   \n",
       "3   11499   11575     weak  Small   \n",
       "4  162894  163029  regular  Large   \n",
       "\n",
       "                                                data confidence  Split  \n",
       "0  [2.6, 2.6, 2.6, 2.5, 2.5, 2.5, 2.5, 2.5, 2.5, ...        low  Train  \n",
       "1  [2.8, 2.8, 2.7, 2.7, 2.7, 2.7, 2.7, 2.7, 2.7, ...        low  Train  \n",
       "2  [2.6, 2.6, 2.6, 2.6, 2.6, 2.5, 2.5, 2.5, 2.5, ...        low  Train  \n",
       "3  [2.7, 2.7, 2.7, 2.7, 2.7, 2.7, 2.7, 2.7, 2.6, ...       high  Train  \n",
       "4  [2.6, 2.6, 2.6, 2.6, 2.6, 2.6, 2.6, 2.5, 2.5, ...        low  Train  "
      ]
     },
     "execution_count": 1,
     "metadata": {},
     "output_type": "execute_result"
    }
   ],
   "source": [
    "import pandas as pd\n",
    "df_loaded = pd.read_json(\"dataset.json\", orient=\"records\", lines=True)\n",
    "df_loaded.head()\n"
   ]
  },
  {
   "cell_type": "markdown",
   "metadata": {},
   "source": [
    "## Helper"
   ]
  },
  {
   "cell_type": "code",
   "execution_count": 2,
   "metadata": {},
   "outputs": [
    {
     "name": "stdout",
     "output_type": "stream",
     "text": [
      "{'Small': 0, 'Medium': 1, 'Large': 2}\n",
      "{0: 'Small', 1: 'Medium', 2: 'Large'}\n",
      "{'weak': 0, 'regular': 1, 'strong': 2, 'very Strong': 3}\n",
      "{0: 'weak', 1: 'regular', 2: 'strong', 3: 'very Strong'}\n"
     ]
    }
   ],
   "source": [
    "size_categories = [\"Small\", \"Medium\", \"Large\"]\n",
    "strength_categories = [\"weak\", \"regular\", \"strong\", \"very Strong\"]\n",
    "\n",
    "# Mapping for size categories\n",
    "size_to_int = {size: idx for idx, size in enumerate(size_categories)}\n",
    "int_to_size = {idx: size for size, idx in size_to_int.items()}\n",
    "\n",
    "# Mapping for strength categories\n",
    "strength_to_int = {strength: idx for idx, strength in enumerate(strength_categories)}\n",
    "int_to_strength = {idx: strength for strength, idx in strength_to_int.items()}\n",
    "\n",
    "# Example usage\n",
    "print(size_to_int)         # {'Small': 0, 'Medium': 1, 'Large': 2}\n",
    "print(int_to_size)         # {0: 'Small', 1: 'Medium', 2: 'Large'}\n",
    "print(strength_to_int)     # {'weak': 0, 'regular': 1, 'strong': 2, 'very Strong': 3}\n",
    "print(int_to_strength)     # {0: 'weak', 1: 'regular', 2: 'strong', 3: 'very Strong'}"
   ]
  },
  {
   "cell_type": "markdown",
   "metadata": {},
   "source": [
    "## Visualize"
   ]
  },
  {
   "cell_type": "code",
   "execution_count": 3,
   "metadata": {},
   "outputs": [
    {
     "data": {
      "image/png": "[encoded data removed]",
      "text/plain": [
       "<Figure size 640x480 with 1 Axes>"
      ]
     },
     "metadata": {},
     "output_type": "display_data"
    }
   ],
   "source": [
    "import matplotlib.pyplot as plt\n",
    "sample = df_loaded.iloc[0]\n",
    "plt.plot(sample[\"data\"])\n",
    "plt.title(f\"Coffee \")\n",
    "plt.title(f\"Coffee size Power Consumption (W): {sample['Size']} -  Strength: {sample['Strength']}\")\n",
    "plt.show()"
   ]
  },
  {
   "cell_type": "markdown",
   "metadata": {},
   "source": [
    "## Raw Data"
   ]
  },
  {
   "cell_type": "code",
   "execution_count": 10,
   "metadata": {},
   "outputs": [
    {
     "data": {
      "text/html": [
       "<div>\n",
       "<style scoped>\n",
       "    .dataframe tbody tr th:only-of-type {\n",
       "        vertical-align: middle;\n",
       "    }\n",
       "\n",
       "    .dataframe tbody tr th {\n",
       "        vertical-align: top;\n",
       "    }\n",
       "\n",
       "    .dataframe thead th {\n",
       "        text-align: right;\n",
       "    }\n",
       "</style>\n",
       "<table border=\"1\" class=\"dataframe\">\n",
       "  <thead>\n",
       "    <tr style=\"text-align: right;\">\n",
       "      <th></th>\n",
       "      <th>timestamp</th>\n",
       "      <th>Power (W)</th>\n",
       "    </tr>\n",
       "  </thead>\n",
       "  <tbody>\n",
       "    <tr>\n",
       "      <th>176021</th>\n",
       "      <td>2025-02-27 11:02:58</td>\n",
       "      <td>2.6</td>\n",
       "    </tr>\n",
       "    <tr>\n",
       "      <th>176022</th>\n",
       "      <td>2025-02-27 11:03:02</td>\n",
       "      <td>2.6</td>\n",
       "    </tr>\n",
       "    <tr>\n",
       "      <th>176023</th>\n",
       "      <td>2025-02-27 11:03:02</td>\n",
       "      <td>2.6</td>\n",
       "    </tr>\n",
       "    <tr>\n",
       "      <th>176024</th>\n",
       "      <td>2025-02-27 11:03:02</td>\n",
       "      <td>2.5</td>\n",
       "    </tr>\n",
       "    <tr>\n",
       "      <th>176025</th>\n",
       "      <td>2025-02-27 11:03:06</td>\n",
       "      <td>2.5</td>\n",
       "    </tr>\n",
       "    <tr>\n",
       "      <th>...</th>\n",
       "      <td>...</td>\n",
       "      <td>...</td>\n",
       "    </tr>\n",
       "    <tr>\n",
       "      <th>176115</th>\n",
       "      <td>2025-02-27 11:04:46</td>\n",
       "      <td>2.8</td>\n",
       "    </tr>\n",
       "    <tr>\n",
       "      <th>176116</th>\n",
       "      <td>2025-02-27 11:04:46</td>\n",
       "      <td>2.7</td>\n",
       "    </tr>\n",
       "    <tr>\n",
       "      <th>176117</th>\n",
       "      <td>2025-02-27 11:04:47</td>\n",
       "      <td>2.7</td>\n",
       "    </tr>\n",
       "    <tr>\n",
       "      <th>176118</th>\n",
       "      <td>2025-02-27 11:04:47</td>\n",
       "      <td>2.7</td>\n",
       "    </tr>\n",
       "    <tr>\n",
       "      <th>176119</th>\n",
       "      <td>2025-02-27 11:04:47</td>\n",
       "      <td>2.7</td>\n",
       "    </tr>\n",
       "  </tbody>\n",
       "</table>\n",
       "<p>99 rows × 2 columns</p>\n",
       "</div>"
      ],
      "text/plain": [
       "                  timestamp  Power (W)\n",
       "176021  2025-02-27 11:02:58        2.6\n",
       "176022  2025-02-27 11:03:02        2.6\n",
       "176023  2025-02-27 11:03:02        2.6\n",
       "176024  2025-02-27 11:03:02        2.5\n",
       "176025  2025-02-27 11:03:06        2.5\n",
       "...                     ...        ...\n",
       "176115  2025-02-27 11:04:46        2.8\n",
       "176116  2025-02-27 11:04:46        2.7\n",
       "176117  2025-02-27 11:04:47        2.7\n",
       "176118  2025-02-27 11:04:47        2.7\n",
       "176119  2025-02-27 11:04:47        2.7\n",
       "\n",
       "[99 rows x 2 columns]"
      ]
     },
     "execution_count": 10,
     "metadata": {},
     "output_type": "execute_result"
    }
   ],
   "source": [
    "raw  = pd.read_csv(\"./combined.csv\")\n",
    "raw.iloc[sample[\"Starts\"]:sample[\"Stops\"]]"
   ]
  },
  {
   "cell_type": "markdown",
   "metadata": {},
   "source": [
    "# Submission"
   ]
  },
  {
   "cell_type": "code",
   "execution_count": 14,
   "metadata": {},
   "outputs": [],
   "source": [
    "# Overwrite Strength and Size entries\n",
    "df_loaded.iloc[-1, df_loaded.columns.get_loc(\"Strength\")] = \"strong\"\n",
    "df_loaded.iloc[-1, df_loaded.columns.get_loc(\"Size\")] = \"medium\"\n",
    "df_loaded.to_json(\"solution.json\", orient=\"records\", lines=True)\n"
   ]
  },
  {
   "cell_type": "code",
   "execution_count": null,
   "metadata": {},
   "outputs": [],
   "source": []
  }
 ],
 "metadata": {
  "kernelspec": {
   "display_name": "coffee",
   "language": "python",
   "name": "python3"
  },
  "language_info": {
   "codemirror_mode": {
    "name": "ipython",
    "version": 3
   },
   "file_extension": ".py",
   "mimetype": "text/x-python",
   "name": "python",
   "nbconvert_exporter": "python",
   "pygments_lexer": "ipython3",
   "version": "3.9.19"
  }
 },
 "nbformat": 4,
 "nbformat_minor": 2
}
